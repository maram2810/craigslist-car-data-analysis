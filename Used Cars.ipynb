{
  "nbformat": 4,
  "nbformat_minor": 0,
  "metadata": {
    "colab": {
      "provenance": []
    },
    "kernelspec": {
      "name": "python3",
      "display_name": "Python 3"
    },
    "language_info": {
      "name": "python"
    }
  },
  "cells": [
    {
      "cell_type": "code",
      "execution_count": 1,
      "metadata": {
        "colab": {
          "base_uri": "https://localhost:8080/"
        },
        "id": "jfrL7MPpuXR7",
        "outputId": "dad129c6-5188-4fd3-978c-b1ce76c239c3"
      },
      "outputs": [
        {
          "output_type": "stream",
          "name": "stdout",
          "text": [
            "Warning: Looks like you're using an outdated `kagglehub` version, please consider updating (latest version: 0.3.5)\n",
            "Downloading from https://www.kaggle.com/api/v1/datasets/download/austinreese/craigslist-carstrucks-data?dataset_version_number=10...\n"
          ]
        },
        {
          "output_type": "stream",
          "name": "stderr",
          "text": [
            "100%|██████████| 262M/262M [00:12<00:00, 22.2MB/s]"
          ]
        },
        {
          "output_type": "stream",
          "name": "stdout",
          "text": [
            "Extracting files...\n"
          ]
        },
        {
          "output_type": "stream",
          "name": "stderr",
          "text": [
            "\n"
          ]
        },
        {
          "output_type": "stream",
          "name": "stdout",
          "text": [
            "Path to dataset files: /root/.cache/kagglehub/datasets/austinreese/craigslist-carstrucks-data/versions/10\n"
          ]
        }
      ],
      "source": [
        "import kagglehub\n",
        "\n",
        "# Download latest version\n",
        "path = kagglehub.dataset_download(\"austinreese/craigslist-carstrucks-data\")\n",
        "\n",
        "print(\"Path to dataset files:\",path)"
      ]
    },
    {
      "cell_type": "code",
      "source": [
        "import pandas as pd\n",
        "vehicles = pd.read_csv(path + '/vehicles.csv')\n"
      ],
      "metadata": {
        "id": "Z6CdXOVsur7h"
      },
      "execution_count": 5,
      "outputs": []
    },
    {
      "cell_type": "code",
      "source": [
        "df = pd.read_csv(path + '/vehicles.csv')\n",
        "print(\"Data loaded successfully.\")"
      ],
      "metadata": {
        "colab": {
          "base_uri": "https://localhost:8080/"
        },
        "id": "J_2_KXSQv5Gc",
        "outputId": "9f12778c-9ac2-4f3e-ee9f-eaa006fe13d3"
      },
      "execution_count": 6,
      "outputs": [
        {
          "output_type": "stream",
          "name": "stdout",
          "text": [
            "Data loaded successfully.\n"
          ]
        }
      ]
    },
    {
      "cell_type": "code",
      "source": [
        "# Display the first few rows of the dataset\n",
        "print(df.head())"
      ],
      "metadata": {
        "colab": {
          "base_uri": "https://localhost:8080/"
        },
        "id": "C8wE9CfZv5I6",
        "outputId": "732a53a2-91d7-4ae6-e667-205745dd4048"
      },
      "execution_count": 7,
      "outputs": [
        {
          "output_type": "stream",
          "name": "stdout",
          "text": [
            "           id                                                url  \\\n",
            "0  7222695916  https://prescott.craigslist.org/cto/d/prescott...   \n",
            "1  7218891961  https://fayar.craigslist.org/ctd/d/bentonville...   \n",
            "2  7221797935  https://keys.craigslist.org/cto/d/summerland-k...   \n",
            "3  7222270760  https://worcester.craigslist.org/cto/d/west-br...   \n",
            "4  7210384030  https://greensboro.craigslist.org/cto/d/trinit...   \n",
            "\n",
            "                   region                         region_url  price  year  \\\n",
            "0                prescott    https://prescott.craigslist.org   6000   NaN   \n",
            "1            fayetteville       https://fayar.craigslist.org  11900   NaN   \n",
            "2            florida keys        https://keys.craigslist.org  21000   NaN   \n",
            "3  worcester / central MA   https://worcester.craigslist.org   1500   NaN   \n",
            "4              greensboro  https://greensboro.craigslist.org   4900   NaN   \n",
            "\n",
            "  manufacturer model condition cylinders  ... size  type paint_color  \\\n",
            "0          NaN   NaN       NaN       NaN  ...  NaN   NaN         NaN   \n",
            "1          NaN   NaN       NaN       NaN  ...  NaN   NaN         NaN   \n",
            "2          NaN   NaN       NaN       NaN  ...  NaN   NaN         NaN   \n",
            "3          NaN   NaN       NaN       NaN  ...  NaN   NaN         NaN   \n",
            "4          NaN   NaN       NaN       NaN  ...  NaN   NaN         NaN   \n",
            "\n",
            "  image_url description county state lat long posting_date  \n",
            "0       NaN         NaN    NaN    az NaN  NaN          NaN  \n",
            "1       NaN         NaN    NaN    ar NaN  NaN          NaN  \n",
            "2       NaN         NaN    NaN    fl NaN  NaN          NaN  \n",
            "3       NaN         NaN    NaN    ma NaN  NaN          NaN  \n",
            "4       NaN         NaN    NaN    nc NaN  NaN          NaN  \n",
            "\n",
            "[5 rows x 26 columns]\n"
          ]
        }
      ]
    },
    {
      "cell_type": "code",
      "source": [
        "# Check the shape of the DataFrame\n",
        "print(\"Shape of DataFrame:\", df.shape)"
      ],
      "metadata": {
        "colab": {
          "base_uri": "https://localhost:8080/"
        },
        "id": "A8jQeX5av5LV",
        "outputId": "450ebb8c-a3fb-4288-c209-8235fe8ee66f"
      },
      "execution_count": 8,
      "outputs": [
        {
          "output_type": "stream",
          "name": "stdout",
          "text": [
            "Shape of DataFrame: (426880, 26)\n"
          ]
        }
      ]
    },
    {
      "cell_type": "code",
      "source": [
        "# Check for missing values\n",
        "missing_values = df.isnull().sum()\n",
        "print(\"Missing values in each column:\\n\", missing_values)"
      ],
      "metadata": {
        "colab": {
          "base_uri": "https://localhost:8080/"
        },
        "id": "tttKisfGv5N-",
        "outputId": "85d375ba-bcc2-4e96-b7b7-1b52e3b60063"
      },
      "execution_count": 9,
      "outputs": [
        {
          "output_type": "stream",
          "name": "stdout",
          "text": [
            "Missing values in each column:\n",
            " id                   0\n",
            "url                  0\n",
            "region               0\n",
            "region_url           0\n",
            "price                0\n",
            "year              1205\n",
            "manufacturer     17646\n",
            "model             5277\n",
            "condition       174104\n",
            "cylinders       177678\n",
            "fuel              3013\n",
            "odometer          4400\n",
            "title_status      8242\n",
            "transmission      2556\n",
            "VIN             161042\n",
            "drive           130567\n",
            "size            306361\n",
            "type             92858\n",
            "paint_color     130203\n",
            "image_url           68\n",
            "description         70\n",
            "county          426880\n",
            "state                0\n",
            "lat               6549\n",
            "long              6549\n",
            "posting_date        68\n",
            "dtype: int64\n"
          ]
        }
      ]
    },
    {
      "cell_type": "code",
      "source": [
        "# Check data types\n",
        "print(\"Data types:\\n\", df.dtypes)"
      ],
      "metadata": {
        "colab": {
          "base_uri": "https://localhost:8080/"
        },
        "id": "Uj9Ohbtqv5Qg",
        "outputId": "9c2c2ae1-c0ec-455c-9c88-40088c157350"
      },
      "execution_count": 10,
      "outputs": [
        {
          "output_type": "stream",
          "name": "stdout",
          "text": [
            "Data types:\n",
            " id                int64\n",
            "url              object\n",
            "region           object\n",
            "region_url       object\n",
            "price             int64\n",
            "year            float64\n",
            "manufacturer     object\n",
            "model            object\n",
            "condition        object\n",
            "cylinders        object\n",
            "fuel             object\n",
            "odometer        float64\n",
            "title_status     object\n",
            "transmission     object\n",
            "VIN              object\n",
            "drive            object\n",
            "size             object\n",
            "type             object\n",
            "paint_color      object\n",
            "image_url        object\n",
            "description      object\n",
            "county          float64\n",
            "state            object\n",
            "lat             float64\n",
            "long            float64\n",
            "posting_date     object\n",
            "dtype: object\n"
          ]
        }
      ]
    },
    {
      "cell_type": "code",
      "source": [
        "# Display basic statistics\n",
        "print(\"Statistics:\\n\", df.describe(include='all'))"
      ],
      "metadata": {
        "colab": {
          "base_uri": "https://localhost:8080/"
        },
        "id": "75FDqqYXv5TI",
        "outputId": "3118be29-81d1-473a-adec-8261c9c1d846"
      },
      "execution_count": 11,
      "outputs": [
        {
          "output_type": "stream",
          "name": "stdout",
          "text": [
            "Statistics:\n",
            "                   id                                                url  \\\n",
            "count   4.268800e+05                                             426880   \n",
            "unique           NaN                                             426880   \n",
            "top              NaN  https://prescott.craigslist.org/cto/d/prescott...   \n",
            "freq             NaN                                                  1   \n",
            "mean    7.311487e+09                                                NaN   \n",
            "std     4.473170e+06                                                NaN   \n",
            "min     7.207408e+09                                                NaN   \n",
            "25%     7.308143e+09                                                NaN   \n",
            "50%     7.312621e+09                                                NaN   \n",
            "75%     7.315254e+09                                                NaN   \n",
            "max     7.317101e+09                                                NaN   \n",
            "\n",
            "          region                      region_url         price           year  \\\n",
            "count     426880                          426880  4.268800e+05  425675.000000   \n",
            "unique       404                             413           NaN            NaN   \n",
            "top     columbus  https://spokane.craigslist.org           NaN            NaN   \n",
            "freq        3608                            2988           NaN            NaN   \n",
            "mean         NaN                             NaN  7.519903e+04    2011.235191   \n",
            "std          NaN                             NaN  1.218228e+07       9.452120   \n",
            "min          NaN                             NaN  0.000000e+00    1900.000000   \n",
            "25%          NaN                             NaN  5.900000e+03    2008.000000   \n",
            "50%          NaN                             NaN  1.395000e+04    2013.000000   \n",
            "75%          NaN                             NaN  2.648575e+04    2017.000000   \n",
            "max          NaN                             NaN  3.736929e+09    2022.000000   \n",
            "\n",
            "       manufacturer   model condition    cylinders  ...       size    type  \\\n",
            "count        409234  421603    252776       249202  ...     120519  334022   \n",
            "unique           42   29667         6            8  ...          4      13   \n",
            "top            ford   f-150      good  6 cylinders  ...  full-size   sedan   \n",
            "freq          70985    8009    121456        94169  ...      63465   87056   \n",
            "mean            NaN     NaN       NaN          NaN  ...        NaN     NaN   \n",
            "std             NaN     NaN       NaN          NaN  ...        NaN     NaN   \n",
            "min             NaN     NaN       NaN          NaN  ...        NaN     NaN   \n",
            "25%             NaN     NaN       NaN          NaN  ...        NaN     NaN   \n",
            "50%             NaN     NaN       NaN          NaN  ...        NaN     NaN   \n",
            "75%             NaN     NaN       NaN          NaN  ...        NaN     NaN   \n",
            "max             NaN     NaN       NaN          NaN  ...        NaN     NaN   \n",
            "\n",
            "       paint_color                                          image_url  \\\n",
            "count       296677                                             426812   \n",
            "unique          12                                             241899   \n",
            "top          white  https://images.craigslist.org/00N0N_1xMPvfxRAI...   \n",
            "freq         79285                                               7357   \n",
            "mean           NaN                                                NaN   \n",
            "std            NaN                                                NaN   \n",
            "min            NaN                                                NaN   \n",
            "25%            NaN                                                NaN   \n",
            "50%            NaN                                                NaN   \n",
            "75%            NaN                                                NaN   \n",
            "max            NaN                                                NaN   \n",
            "\n",
            "                                              description county   state  \\\n",
            "count                                              426810    0.0  426880   \n",
            "unique                                             360911    NaN      51   \n",
            "top     35 VEHICLES PRICED UNDER $3000!!!  BIG TIME! T...    NaN      ca   \n",
            "freq                                                  231    NaN   50614   \n",
            "mean                                                  NaN    NaN     NaN   \n",
            "std                                                   NaN    NaN     NaN   \n",
            "min                                                   NaN    NaN     NaN   \n",
            "25%                                                   NaN    NaN     NaN   \n",
            "50%                                                   NaN    NaN     NaN   \n",
            "75%                                                   NaN    NaN     NaN   \n",
            "max                                                   NaN    NaN     NaN   \n",
            "\n",
            "                  lat           long              posting_date  \n",
            "count   420331.000000  420331.000000                    426812  \n",
            "unique            NaN            NaN                    381536  \n",
            "top               NaN            NaN  2021-04-23T22:13:05-0400  \n",
            "freq              NaN            NaN                        12  \n",
            "mean        38.493940     -94.748599                       NaN  \n",
            "std          5.841533      18.365462                       NaN  \n",
            "min        -84.122245    -159.827728                       NaN  \n",
            "25%         34.601900    -111.939847                       NaN  \n",
            "50%         39.150100     -88.432600                       NaN  \n",
            "75%         42.398900     -80.832039                       NaN  \n",
            "max         82.390818     173.885502                       NaN  \n",
            "\n",
            "[11 rows x 26 columns]\n"
          ]
        }
      ]
    },
    {
      "cell_type": "code",
      "source": [
        "# Example: Drop rows with missing values in critical columns\n",
        "df.dropna(subset=['price', 'year', 'manufacturer'], inplace=True)\n",
        "\n",
        "# Alternatively, fill missing values for non-critical columns\n",
        "df['odometer'].fillna(df['odometer'].median(), inplace=True)"
      ],
      "metadata": {
        "colab": {
          "base_uri": "https://localhost:8080/"
        },
        "id": "Yvn8IEMCv5Vj",
        "outputId": "46617681-fd75-4dea-f0b1-2cb47ee3610f"
      },
      "execution_count": 12,
      "outputs": [
        {
          "output_type": "stream",
          "name": "stderr",
          "text": [
            "<ipython-input-12-d7656c72ba38>:5: FutureWarning: A value is trying to be set on a copy of a DataFrame or Series through chained assignment using an inplace method.\n",
            "The behavior will change in pandas 3.0. This inplace method will never work because the intermediate object on which we are setting values always behaves as a copy.\n",
            "\n",
            "For example, when doing 'df[col].method(value, inplace=True)', try using 'df.method({col: value}, inplace=True)' or df[col] = df[col].method(value) instead, to perform the operation inplace on the original object.\n",
            "\n",
            "\n",
            "  df['odometer'].fillna(df['odometer'].median(), inplace=True)\n"
          ]
        }
      ]
    },
    {
      "cell_type": "code",
      "source": [
        "#Remove Duplicates:\n",
        "df.drop_duplicates(inplace=True)"
      ],
      "metadata": {
        "id": "NwBq7wNWv5YQ"
      },
      "execution_count": 13,
      "outputs": []
    },
    {
      "cell_type": "code",
      "source": [
        "#Correct Data Types:\n",
        "df['price'] = pd.to_numeric(df['price'], errors='coerce')\n",
        "df['year'] = pd.to_numeric(df['year'], errors='coerce')\n"
      ],
      "metadata": {
        "id": "N6_vQ5xjv5bh"
      },
      "execution_count": 14,
      "outputs": []
    },
    {
      "cell_type": "code",
      "source": [
        "#Standardize Text Fields:\n",
        "df['manufacturer'] = df['manufacturer'].str.lower().str.strip()\n"
      ],
      "metadata": {
        "id": "o8PkqV9wxjna"
      },
      "execution_count": 15,
      "outputs": []
    },
    {
      "cell_type": "markdown",
      "source": [],
      "metadata": {
        "id": "Mz2Gwu6WyIRG"
      }
    },
    {
      "cell_type": "markdown",
      "source": [
        "1/What is the average price of vehicles by manufacturer?\n"
      ],
      "metadata": {
        "id": "LwnLgh01yqwy"
      }
    },
    {
      "cell_type": "code",
      "source": [
        "avg_price_by_manufacturer = df.groupby('manufacturer')['price'].mean().sort_values(ascending=False)\n",
        "print(avg_price_by_manufacturer)\n"
      ],
      "metadata": {
        "colab": {
          "base_uri": "https://localhost:8080/"
        },
        "id": "CtDp-29Kxjpm",
        "outputId": "a71df5e3-70b0-4186-f330-ba6f537a980a"
      },
      "execution_count": 16,
      "outputs": [
        {
          "output_type": "stream",
          "name": "stdout",
          "text": [
            "manufacturer\n",
            "mercedes-benz      531710.557333\n",
            "volvo              383755.147896\n",
            "toyota             234294.682621\n",
            "jeep               150717.819659\n",
            "chevrolet          115676.101645\n",
            "ferrari            107438.736842\n",
            "aston-martin        53494.541667\n",
            "tesla               38354.456221\n",
            "buick               36784.954736\n",
            "ford                36411.718025\n",
            "porsche             31946.061416\n",
            "gmc                 30405.877152\n",
            "alfa-romeo          28237.348941\n",
            "ram                 27728.339167\n",
            "rover               27141.248220\n",
            "bmw                 26740.261446\n",
            "jaguar              26549.176259\n",
            "audi                23574.849993\n",
            "acura               19842.869522\n",
            "lincoln             19802.274645\n",
            "infiniti            19561.849229\n",
            "cadillac            19439.520926\n",
            "lexus               19206.152683\n",
            "nissan              18827.332826\n",
            "datsun              15149.666667\n",
            "dodge               15003.200554\n",
            "mini                14163.474747\n",
            "mitsubishi          13743.070778\n",
            "morgan              13100.000000\n",
            "subaru              13055.512586\n",
            "volkswagen          12537.098769\n",
            "mazda               12345.607702\n",
            "harley-davidson     12129.790850\n",
            "fiat                11890.517677\n",
            "kia                 11083.324820\n",
            "honda               10751.363722\n",
            "hyundai             10719.659412\n",
            "chrysler            10442.946609\n",
            "pontiac              8176.903409\n",
            "land rover           7911.095238\n",
            "saturn               6881.734862\n",
            "mercury              5482.536318\n",
            "Name: price, dtype: float64\n"
          ]
        }
      ]
    },
    {
      "cell_type": "markdown",
      "source": [
        "2/How does mileage affect vehicle price?"
      ],
      "metadata": {
        "id": "jtk8shc5yxG_"
      }
    },
    {
      "cell_type": "code",
      "source": [
        "import matplotlib.pyplot as plt\n",
        "\n",
        "plt.scatter(df['odometer'], df['price'])\n",
        "plt.title('Price vs Mileage')\n",
        "plt.xlabel('Mileage (Odometer)')\n",
        "plt.ylabel('Price')\n",
        "plt.show()\n"
      ],
      "metadata": {
        "colab": {
          "base_uri": "https://localhost:8080/",
          "height": 472
        },
        "id": "yr6b6DI4xjsc",
        "outputId": "0dfc90b4-74cc-4de1-ce05-4a8379b8cbf6"
      },
      "execution_count": 17,
      "outputs": [
        {
          "output_type": "display_data",
          "data": {
            "text/plain": [
              "<Figure size 640x480 with 1 Axes>"
            ],
            "image/png": "[encoded data removed]"
          },
          "metadata": {}
        }
      ]
    },
    {
      "cell_type": "markdown",
      "source": [
        "3/Which regions have the highest average vehicle prices?"
      ],
      "metadata": {
        "id": "PMU4GDWOyBFM"
      }
    },
    {
      "cell_type": "code",
      "source": [
        "avg_price_by_region = df.groupby('region')['price'].mean().sort_values(ascending=False)\n",
        "print(avg_price_by_region)\n"
      ],
      "metadata": {
        "colab": {
          "base_uri": "https://localhost:8080/"
        },
        "id": "fRJceY62xjuv",
        "outputId": "e80f65ae-9305-4b06-8e4a-d78c1c1808df"
      },
      "execution_count": 18,
      "outputs": [
        {
          "output_type": "stream",
          "name": "stdout",
          "text": [
            "region\n",
            "frederick              5.183252e+06\n",
            "delaware               3.383632e+06\n",
            "humboldt county        3.085757e+06\n",
            "modesto                1.468378e+06\n",
            "knoxville              1.420894e+06\n",
            "                           ...     \n",
            "houma                  9.656167e+03\n",
            "klamath falls          9.605333e+03\n",
            "mendocino county       9.588280e+03\n",
            "west virginia (old)    8.627143e+03\n",
            "siskiyou county        8.423092e+03\n",
            "Name: price, Length: 404, dtype: float64\n"
          ]
        }
      ]
    },
    {
      "cell_type": "markdown",
      "source": [
        "4/What is the average age of vehicles sold?"
      ],
      "metadata": {
        "id": "XBjiyaDby2t8"
      }
    },
    {
      "cell_type": "code",
      "source": [
        "df['age'] = 2024 - df['year']\n",
        "average_age = df['age'].mean()\n",
        "print(f\"Average age of vehicles: {average_age:.2f} years\")\n"
      ],
      "metadata": {
        "colab": {
          "base_uri": "https://localhost:8080/"
        },
        "id": "wcpOZX4Bxjxd",
        "outputId": "e503ddf1-a52e-4c82-8a5e-3c165b0c8b7d"
      },
      "execution_count": 19,
      "outputs": [
        {
          "output_type": "stream",
          "name": "stdout",
          "text": [
            "Average age of vehicles: 12.49 years\n"
          ]
        }
      ]
    },
    {
      "cell_type": "markdown",
      "source": [
        "5/What are the most common vehicle types listed for sale?"
      ],
      "metadata": {
        "id": "eFcGHv130EwB"
      }
    },
    {
      "cell_type": "code",
      "source": [
        "vehicle_type_counts = df['type'].value_counts()\n",
        "print(vehicle_type_counts)\n"
      ],
      "metadata": {
        "colab": {
          "base_uri": "https://localhost:8080/"
        },
        "id": "5mRBZTEzxjz6",
        "outputId": "a04cb6bf-4720-4dea-9c27-d272c9b49f62"
      },
      "execution_count": 20,
      "outputs": [
        {
          "output_type": "stream",
          "name": "stdout",
          "text": [
            "type\n",
            "sedan          84729\n",
            "SUV            75868\n",
            "pickup         42826\n",
            "truck          33511\n",
            "other          21248\n",
            "coupe          17756\n",
            "hatchback      15393\n",
            "wagon          10545\n",
            "van             8266\n",
            "convertible     7144\n",
            "mini-van        4682\n",
            "offroad          571\n",
            "bus              317\n",
            "Name: count, dtype: int64\n"
          ]
        }
      ]
    },
    {
      "cell_type": "markdown",
      "source": [],
      "metadata": {
        "id": "6HWgl2R_0OT8"
      }
    },
    {
      "cell_type": "markdown",
      "source": [
        "6/How does the number of cylinders affect vehicle prices?"
      ],
      "metadata": {
        "id": "lqo68vKT0pCZ"
      }
    },
    {
      "cell_type": "code",
      "source": [
        "avg_price_by_cylinders = df.groupby('cylinders')['price'].mean().sort_values(ascending=False)\n",
        "print(avg_price_by_cylinders)\n"
      ],
      "metadata": {
        "colab": {
          "base_uri": "https://localhost:8080/"
        },
        "id": "0JBLACi0xj2K",
        "outputId": "de42dcc6-6224-463e-9c7b-f3359f6f59fc"
      },
      "execution_count": 22,
      "outputs": [
        {
          "output_type": "stream",
          "name": "stdout",
          "text": [
            "cylinders\n",
            "8 cylinders     140445.274219\n",
            "6 cylinders      59943.385708\n",
            "12 cylinders     32067.382114\n",
            "10 cylinders     18677.685484\n",
            "other            18609.988722\n",
            "3 cylinders      13223.992844\n",
            "4 cylinders      10531.591773\n",
            "5 cylinders       7397.475888\n",
            "Name: price, dtype: float64\n"
          ]
        }
      ]
    },
    {
      "cell_type": "markdown",
      "source": [
        "7/How do fuel types influence vehicle pricing?"
      ],
      "metadata": {
        "id": "a2a-1QRA1dzK"
      }
    },
    {
      "cell_type": "code",
      "source": [
        "\n",
        "avg_price_by_fuel = df.groupby('fuel')['price'].mean().sort_values(ascending=False)\n",
        "print(avg_price_by_fuel)\n"
      ],
      "metadata": {
        "colab": {
          "base_uri": "https://localhost:8080/"
        },
        "id": "HCJH88LD1X4I",
        "outputId": "1b38b5f9-7a19-4359-9f08-54af6318665c"
      },
      "execution_count": 24,
      "outputs": [
        {
          "output_type": "stream",
          "name": "stdout",
          "text": [
            "fuel\n",
            "diesel      126545.373223\n",
            "gas          75563.868731\n",
            "other        68529.821156\n",
            "electric     25440.831683\n",
            "hybrid       14578.309105\n",
            "Name: price, dtype: float64\n"
          ]
        }
      ]
    },
    {
      "cell_type": "markdown",
      "source": [],
      "metadata": {
        "id": "pzDCNDqz1ls_"
      }
    },
    {
      "cell_type": "markdown",
      "source": [
        "8/What is the distribution of vehicle conditions?"
      ],
      "metadata": {
        "id": "p6lgk-Ny2v5X"
      }
    },
    {
      "cell_type": "code",
      "source": [
        "condition_counts = df['condition'].value_counts()\n",
        "print(condition_counts)\n"
      ],
      "metadata": {
        "colab": {
          "base_uri": "https://localhost:8080/"
        },
        "id": "KJa0tibl1X-z",
        "outputId": "1bac08ba-a20b-4ca7-e3b5-fc3b138fe4f0"
      },
      "execution_count": 25,
      "outputs": [
        {
          "output_type": "stream",
          "name": "stdout",
          "text": [
            "condition\n",
            "good         116215\n",
            "excellent     97631\n",
            "like new      20212\n",
            "fair           6170\n",
            "new            1172\n",
            "salvage         551\n",
            "Name: count, dtype: int64\n"
          ]
        }
      ]
    }
  ]
}